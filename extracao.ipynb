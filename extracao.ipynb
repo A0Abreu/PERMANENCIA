# puta merda funcionou pra krl

import camelot
import pandas as pd

import os
import tabula

# Defina manualmente o caminho para o JDK-17
os.environ['JAVA_HOME'] = r'C:\Program Files\Java\jdk-17'
os.environ['PATH'] = os.environ['JAVA_HOME'] + r'\bin;' + os.environ['PATH']

caminho_pdf = (r"C:\Users\lades\Desktop\Antonio HUB TVBOX\media\Dejahyr.pdf") #caminho do meu computador (ALTERAR!!!)

# Extrai as tabelas do PDF diretamente
tabelas = camelot.read_pdf(caminho_pdf, pages="all", flavor="stream")

arquivo = tabula.read_pdf(caminho_pdf, pages = "all") #por algum motivo não deu certo
arquivo = pd.concat(arquivo, ignore_index = True)
arquivo = pd.DataFrame(arquivo)


# Concatenando todas as tabelas em um único DataFrame
todas_tabelas = pd.concat([tabela.df for tabela in tabelas], ignore_index=True)

dias_com_permanencia = []

horarios_com_permanencia = []

professor = arquivo.iloc[0, 1]

# Varrer as colunas do DataFrame e procurar a palavra "Permanência"
for coluna in todas_tabelas.columns:
    for i in range(len(todas_tabelas[coluna])):
        if "Horário para Capacitação" in str(todas_tabelas[coluna].iloc[i]):
           nome = str(todas_tabelas[coluna].iloc[i + 2].split(".")[0])
           sobrenome = str(todas_tabelas[coluna].iloc[i+2].split(".")[1].split("\n")[0])
           usuario = nome + "." + sobrenome
        if todas_tabelas[coluna].iloc[i] == "Permanência":
            # Imprime os conteúdos conforme solicitado
            if i + 1 <= len(todas_tabelas):  # Verifica se a próxima linha existe
              if todas_tabelas[coluna].iloc[i + 1]: #Verifica se a célula em questão está bem definida
                dias_com_permanencia.append(todas_tabelas[coluna].iloc[6])
                horarios_com_permanencia.append(todas_tabelas[coluna].iloc[i + 1])
              else:
                dias_com_permanencia.append(todas_tabelas[coluna].iloc[6])
                horarios_com_permanencia.append(todas_tabelas[coluna].iloc[i + 2])

print(f"Professor: {professor}")
print(f"Usuário: {usuario}\n")
print("\n Permanências \n")
for i in range(len(horarios_com_permanencia)):
  print(f"{dias_com_permanencia[i]}: {horarios_com_permanencia[i]}")
