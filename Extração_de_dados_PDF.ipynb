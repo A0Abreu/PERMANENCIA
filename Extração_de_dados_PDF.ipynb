{
  "nbformat": 4,
  "nbformat_minor": 0,
  "metadata": {
    "colab": {
      "provenance": [],
      "authorship_tag": "ABX9TyPmgZ70880ILGGwlDZLCYjU",
      "include_colab_link": true
    },
    "kernelspec": {
      "name": "python3",
      "display_name": "Python 3"
    },
    "language_info": {
      "name": "python"
    }
  },
  "cells": [
    {
      "cell_type": "markdown",
      "metadata": {
        "id": "view-in-github",
        "colab_type": "text"
      },
      "source": [
        "<a href=\"https://colab.research.google.com/github/A0Abreu/PERMANENCIA/blob/main/Extra%C3%A7%C3%A3o_de_dados_PDF.ipynb\" target=\"_parent\"><img src=\"https://colab.research.google.com/assets/colab-badge.svg\" alt=\"Open In Colab\"/></a>"
      ]
    },
    {
      "source": [
        "# Imprime um texto retirado de um PDF usando PDFReader\n",
        "# Imprimir um texto retirado de um PDF via PDFPlumber\n",
        "# Imprimir uma tabela em um PDF via Tabula/Pandas/Camelot etc.\n",
        "\n",
        "!pip install tabula-py jpype1\n",
        "# !pip install pytesseract\n",
        "# !pip install pdf2image\n",
        "# !pip install opencv-python\n",
        "# !pip install pillow\n",
        "# !pip install camelot-py\n",
        "# !apt-get install poppler-utils # Install Poppler on Debian/Ubuntu systems\n",
        "\n",
        "# !apt-get install tesseract-ocr\n",
        "# !apt-get install libtesseract-dev\n",
        "\n",
        "# Mexer somente no código acima\n",
        "from IPython.display import clear_output\n",
        "clear_output()"
      ],
      "cell_type": "code",
      "metadata": {
        "id": "LfTiTHmkvYNc"
      },
      "execution_count": 47,
      "outputs": []
    },
    {
      "cell_type": "code",
      "source": [
        "# puta merda funcionou pra krl\n",
        "\n",
        "import camelot\n",
        "import pandas as pd\n",
        "import tabula\n",
        "\n",
        "caminho_pdf = \"Jiyan.pdf\"\n",
        "\n",
        "# Extrai as tabelas do PDF diretamente\n",
        "tabelas = camelot.read_pdf(caminho_pdf, pages=\"all\", flavor=\"stream\")\n",
        "\n",
        "arquivo = tabula.read_pdf(caminho_pdf, pages = \"all\")\n",
        "arquivo = pd.concat(arquivo, ignore_index = True)\n",
        "arquivo = pd.DataFrame(arquivo)\n",
        "\n",
        "\n",
        "# Concatenando todas as tabelas em um único DataFrame\n",
        "todas_tabelas = pd.concat([tabela.df for tabela in tabelas], ignore_index=True)\n",
        "\n",
        "dias_com_permanencia = []\n",
        "\n",
        "horarios_com_permanencia = []\n",
        "\n",
        "professor = arquivo.iloc[0, 1]\n",
        "\n",
        "# Varrer as colunas do DataFrame e procurar a palavra \"Permanência\"\n",
        "for coluna in todas_tabelas.columns:\n",
        "    for i in range(len(todas_tabelas[coluna])):\n",
        "        if todas_tabelas[coluna].iloc[i] == \"Permanência\":\n",
        "            # Imprime os conteúdos conforme solicitado\n",
        "            if i + 1 <= len(todas_tabelas):  # Verifica se a próxima linha existe\n",
        "              if todas_tabelas[coluna].iloc[i + 1]: #Verifica se a célula em questão está bem definida\n",
        "                dias_com_permanencia.append(todas_tabelas[coluna].iloc[6])\n",
        "                horarios_com_permanencia.append(todas_tabelas[coluna].iloc[i + 1])\n",
        "              else:\n",
        "                dias_com_permanencia.append(todas_tabelas[coluna].iloc[6])\n",
        "                horarios_com_permanencia.append(todas_tabelas[coluna].iloc[i + 2])\n",
        "\n",
        "print(f\"Professor: {professor}\\nPermanências\")\n",
        "for i in range(len(horarios_com_permanencia)):\n",
        "  print(f\"{dias_com_permanencia[i]}: {horarios_com_permanencia[i]}\")"
      ],
      "metadata": {
        "colab": {
          "base_uri": "https://localhost:8080/"
        },
        "id": "wSNMgtw-_WXi",
        "outputId": "afefbe32-89fa-40c3-8650-a7ed85011bac"
      },
      "execution_count": 51,
      "outputs": [
        {
          "output_type": "stream",
          "name": "stdout",
          "text": [
            "Professor: JIYAN YARI\n",
            "Permanências\n",
            "Terça-Feira: 08:30 - 09:00\n",
            "Terça-Feira: 09:00 - 10:00\n",
            "Terça-Feira: 10:00 - 11:00\n",
            "Terça-Feira: 11:00 - 12:00\n"
          ]
        }
      ]
    },
    {
      "cell_type": "code",
      "source": [
        "# Extração de texto via reconhecimento de imagem\n",
        "\n",
        "import pytesseract\n",
        "from pdf2image import convert_from_path\n",
        "import cv2\n",
        "import numpy as np\n",
        "\n",
        "def pdf_para_imagens(caminho_pdf):\n",
        "    imagens_paginas = convert_from_path(caminho_pdf)\n",
        "    return imagens_paginas\n",
        "\n",
        "def extrair_texto(imagem):\n",
        "    texto = pytesseract.image_to_string(imagem)\n",
        "    return texto\n",
        "\n",
        "def processar_pdf(caminho_pdf):\n",
        "    imagens_paginas = pdf_para_imagens(caminho_pdf)\n",
        "    textos = []\n",
        "\n",
        "    for imagem in imagens_paginas:\n",
        "        # Extrair texto da página\n",
        "        texto = extrair_texto(imagem)\n",
        "        textos.append(texto)\n",
        "\n",
        "    return textos\n",
        "\n",
        "caminho_pdf = 'Adilso.pdf'\n",
        "textos = processar_pdf(caminho_pdf)\n",
        "\n",
        "# Exibindo o texto extraído\n",
        "# for i, texto in enumerate(textos, start=1):\n",
        "    # print(f\"Texto da página {i}:\\n{texto}\\n{'-'*40}\")\n",
        "\n",
        "termos = [\"Permanência\", \"Permanencia\", \"Permanéncia\", \"permanencia\", \"permanéncia\", \"permanência\"]\n",
        "\n",
        "dias_semana = [\"Segunda-Feira\", \"Terça-Feira\", \"Quarta-Feira\", \"Quinta-Feira\", \"Sexta-Feira\", \"Sábado\", \"Domingo\"]\n",
        "\n",
        "dias_found = []\n",
        "\n",
        "for pagina_texto in textos:\n",
        "    linha_texto = pagina_texto.split(\"\\n\")  # Divide a página em linhas\n",
        "    cont = 1  # Contador para exibir junto com os resultados\n",
        "    dia_atual = None  # Inicializa o dia atual como None\n",
        "\n",
        "    for i, obj in enumerate(linha_texto):  # Itera com índice para referência futura\n",
        "        # Verifica se a linha contém um dia com \"-Feira\"\n",
        "\n",
        "        print(linha_texto)\n",
        "        # for dia in dias_semana:\n",
        "        #   if dia in obj:\n",
        "        #     dia_atual = dia  # Define o dia atual\n",
        "        #     dias_found.append(dia_atual)  # Armazena o dia encontrado\n",
        "\n",
        "        # # Verifica se a linha contém um dos termos desejados e que um dia já foi identificado\n",
        "        #   elif any(termo in obj for termo in termos) and dia_atual:\n",
        "        #     print(f\"Dia da permanência: {dia_atual}\")\n",
        "        #     print(f\"{obj} - {str(cont)}\")  # Exibe o termo encontrado e o contador\n",
        "\n",
        "        #     # Verifica se há uma linha seguinte (possível horário)\n",
        "        #     if i + 1 < len(linha_texto):\n",
        "        #         print(f\"Horário: {linha_texto[i + 1]}\")  # Exibe o conteúdo da linha seguinte\n",
        "        #     cont += 1  # Incrementa o contador\n"
      ],
      "metadata": {
        "id": "tjX8tQkVPaPY"
      },
      "execution_count": null,
      "outputs": []
    }
  ]
}